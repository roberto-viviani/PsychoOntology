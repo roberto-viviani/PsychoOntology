{
 "cells": [
  {
   "cell_type": "markdown",
   "metadata": {},
   "source": [
    "## Hugging Face\n",
    "\n",
    "Hugging face emebddings. The cells should be run only once to download the embedding into the respective files.\n",
    "We only collect the German items here."
   ]
  },
  {
   "cell_type": "code",
   "execution_count": 1,
   "metadata": {},
   "outputs": [],
   "source": [
    "# required packages\n",
    "# !pip install pandas\n",
    "# !pip install haystack-ai\n",
    "\n",
    "# common imports\n",
    "import os\n",
    "import pandas as pd\n",
    "\n",
    "data = pd.read_csv('scales.csv', encoding='unicode_escape')\n",
    "# additional check on the scales converted here\n",
    "data = data[data['scaleID'].isin(['PID', 'NEO'])]\n",
    "\n",
    "# if the scales items are language specific, rename the column to \n",
    "# 'item' and drop the other language column\n",
    "if 'item_de' in data.columns:\n",
    "    data = data.rename(columns={'item_de': 'item'})\n",
    "    data = data.drop(columns=['item_en'])"
   ]
  },
  {
   "cell_type": "markdown",
   "metadata": {},
   "source": [
    "## Roberta"
   ]
  },
  {
   "cell_type": "code",
   "execution_count": null,
   "metadata": {},
   "outputs": [],
   "source": [
    "# required imports\n",
    "# !pip install sentence-transformers\n",
    "\n",
    "# multilingual roberta model. This does not work under windows, use google colab instead\n",
    "# check if the embedding file exists\n",
    "if os.path.exists('embeddings_roberta_multilingual_de.csv'):\n",
    "    # raise error if the file exists\n",
    "    raise FileExistsError('The file embeddings_roberta_multilingual_de.csv ' + \n",
    "        'already exists. Please remove it before running this script again.')\n",
    "\n",
    "# multilingual roberta model\n",
    "from sentence_transformers import SentenceTransformer\n",
    "\n",
    "# Download from the 🤗 Hub\n",
    "model = SentenceTransformer(\"tomaarsen/xlm-roberta-base-multilingual-en-ar-fr-de-es-tr-it\")\n",
    "# Run inference\n",
    "sentences = data.item.tolist()\n",
    "embeddings = model.encode(sentences)\n",
    "\n",
    "# save embeddings to file\n",
    "data['embedding'] = embeddings.tolist()\n",
    "data.to_csv('embeddings_roberta_multilingual_de.csv', index=False)\n"
   ]
  },
  {
   "cell_type": "code",
   "execution_count": null,
   "metadata": {},
   "outputs": [],
   "source": [
    "# This is the Enlish version of roberta. This works fine under windows.\n",
    "\n",
    "# required pakcages\n",
    "# !pip install haystack-ai\n",
    "# !pip install huggingface-hub\n",
    "\n",
    "from haystack.components.embedders import HuggingFaceTEITextEmbedder\n",
    "from haystack.utils import Secret\n",
    "\n",
    "# check if the 'embeddings_roberta_en.csv' file exists\n",
    "if os.path.exists('embeddings_roberta_en.csv'):\n",
    "    # raise error if the file exists\n",
    "    raise FileExistsError('The file embeddings_roberta_de.csv ' + \n",
    "        'already exists. Please remove it before running this script again.')\n",
    "\n",
    "# retrieve embeddings from roberta from hugging face\n",
    "# https://huggingface.co/sentence-transformers/all-roberta-large-v1\n",
    "text_embedder = HuggingFaceTEITextEmbedder(\n",
    "    model=\"sentence-transformers/all-roberta-large-v1\", \n",
    "    token=Secret.from_token(os.environ['HF_API_KEY'])\n",
    ")\n",
    "\n",
    "embeddings = [text_embedder.run(item)['embedding'] for item in data.item]\n",
    "\n",
    "# save embeddings to the 'scales_roberta_en.csv' file\n",
    "data['embedding'] = embeddings\n",
    "data.to_csv('embeddings_roberta_en.csv', index=False)\n"
   ]
  },
  {
   "cell_type": "markdown",
   "metadata": {},
   "source": [
    "## Other Hugging Face models"
   ]
  },
  {
   "cell_type": "code",
   "execution_count": null,
   "metadata": {},
   "outputs": [],
   "source": [
    "# A standard open source model\n",
    "\n",
    "# required pakcages\n",
    "# !pip install haystack-ai\n",
    "# !pip install huggingface-hub\n",
    "\n",
    "from haystack.components.embedders import HuggingFaceTEITextEmbedder\n",
    "from haystack.utils import Secret\n",
    "\n",
    "# a model recommended for its performance (https://www.sbert.net/docs/pretrained_models.html)\n",
    "text_embedder = HuggingFaceTEITextEmbedder(\n",
    "    model=\"sentence-transformers/paraphrase-multilingual-mpnet-base-v2\", \n",
    "    token=Secret.from_token(os.environ['HF_API_KEY'])\n",
    ")\n",
    "\n",
    "embeddings = [text_embedder.run(item)['embedding'] for item in data.item]\n",
    "\n",
    "# save embeddings to file\n",
    "data['embedding'] = embeddings\n",
    "data.to_csv('embeddings_mpnetbasev2_de.csv', index=False)\n"
   ]
  },
  {
   "cell_type": "code",
   "execution_count": 2,
   "metadata": {},
   "outputs": [
    {
     "name": "stderr",
     "output_type": "stream",
     "text": [
      "c:\\Users\\rober\\Documents\\git\\PsychoOntology\\.venv\\Lib\\site-packages\\tqdm\\auto.py:21: TqdmWarning: IProgress not found. Please update jupyter and ipywidgets. See https://ipywidgets.readthedocs.io/en/stable/user_install.html\n",
      "  from .autonotebook import tqdm as notebook_tqdm\n"
     ]
    }
   ],
   "source": [
    "# Another standard open source model\n",
    "\n",
    "# required pakcages\n",
    "# !pip install haystack-ai\n",
    "# !pip install huggingface-hub\n",
    "\n",
    "from haystack.components.embedders import HuggingFaceTEITextEmbedder\n",
    "from haystack.utils import Secret\n",
    "\n",
    "# a model recommended by OpenSearch\n",
    "text_embedder = HuggingFaceTEITextEmbedder(\n",
    "    model=\"sentence-transformers/distiluse-base-multilingual-cased-v1\", \n",
    "    token=Secret.from_token(os.environ['HF_API_KEY'])\n",
    ")\n",
    "\n",
    "embeddings = [text_embedder.run(item)['embedding'] for item in data.item]\n",
    "\n",
    "# save embeddings to file\n",
    "data['embedding'] = embeddings\n",
    "data.to_csv('embeddings_distiluse_cased_v1_de.csv', index=False)\n"
   ]
  },
  {
   "cell_type": "code",
   "execution_count": 13,
   "metadata": {},
   "outputs": [],
   "source": [
    "# Another open source model\n",
    "\n",
    "# required pakcages\n",
    "# !pip install haystack-ai\n",
    "# !pip install huggingface-hub\n",
    "\n",
    "from haystack.components.embedders import HuggingFaceTEITextEmbedder\n",
    "from haystack.utils import Secret\n",
    "\n",
    "text_embedder = HuggingFaceTEITextEmbedder(\n",
    "    model=\"BAAI/bge-m3\", \n",
    "    token=Secret.from_token(os.environ['HF_API_KEY'])\n",
    ")\n",
    "\n",
    "embeddings = [text_embedder.run(item)['embedding'] for item in data.item]\n",
    "\n",
    "# save embeddings to file\n",
    "data['embedding'] = embeddings\n",
    "data.to_csv('embeddings_BGEM3_de.csv', index=False)\n"
   ]
  },
  {
   "cell_type": "code",
   "execution_count": 11,
   "metadata": {},
   "outputs": [],
   "source": [
    "# required pakcages\n",
    "# !pip install haystack-ai\n",
    "# !pip install huggingface-hub\n",
    "\n",
    "from haystack.components.embedders import HuggingFaceTEITextEmbedder\n",
    "from haystack.utils import Secret\n",
    "\n",
    "text_embedder = HuggingFaceTEITextEmbedder(\n",
    "    model=\"intfloat/multilingual-e5-large-instruct\", \n",
    "    token=Secret.from_token(os.environ['HF_API_KEY'])\n",
    ")\n",
    "\n",
    "embeddings = [text_embedder.run(item)['embedding'] for item in data.item]\n",
    "data['embedding'] = embeddings\n",
    "data.to_csv('embeddings_multilingual_e5_large_instruct_de.csv', index=False)\n"
   ]
  },
  {
   "cell_type": "code",
   "execution_count": 10,
   "metadata": {},
   "outputs": [],
   "source": [
    "# required pakcages\n",
    "# !pip install haystack-ai\n",
    "# !pip install huggingface-hub\n",
    "\n",
    "from haystack.components.embedders import HuggingFaceTEITextEmbedder\n",
    "from haystack.utils import Secret\n",
    "\n",
    "text_embedder = HuggingFaceTEITextEmbedder(\n",
    "    model=\"jinaai/jina-embeddings-v2-base-de\", \n",
    "    token=Secret.from_token(os.environ['HF_API_KEY'])\n",
    ")\n",
    "\n",
    "embeddings = [text_embedder.run(item)['embedding'] for item in data.item]\n",
    "data['embedding'] = embeddings\n",
    "data.to_csv('embeddings_jinav2base_de.csv', index=False)\n"
   ]
  }
 ],
 "metadata": {
  "kernelspec": {
   "display_name": "Python 3",
   "language": "python",
   "name": "python3"
  },
  "language_info": {
   "codemirror_mode": {
    "name": "ipython",
    "version": 3
   },
   "file_extension": ".py",
   "mimetype": "text/x-python",
   "name": "python",
   "nbconvert_exporter": "python",
   "pygments_lexer": "ipython3",
   "version": "3.12.3"
  }
 },
 "nbformat": 4,
 "nbformat_minor": 2
}
